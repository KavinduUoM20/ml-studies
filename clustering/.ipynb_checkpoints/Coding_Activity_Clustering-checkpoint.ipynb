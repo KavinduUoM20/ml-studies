{
  "nbformat": 4,
  "nbformat_minor": 0,
  "metadata": {
    "colab": {
      "provenance": []
    },
    "kernelspec": {
      "name": "python3",
      "display_name": "Python 3"
    },
    "language_info": {
      "name": "python"
    }
  },
  "cells": [
    {
      "cell_type": "markdown",
      "source": [
        "### **List of Group Members:**\n",
        "**Student_ID Student_Name**\n",
        "\n",
        "200001A ABC\n",
        "\n",
        "200002B DEF\n",
        "\n",
        "---"
      ],
      "metadata": {
        "id": "qUUlj5OaZctH"
      }
    },
    {
      "cell_type": "markdown",
      "source": [
        "Consider the planet data stored in the `planet.csv` file. These data give values of three features for 101 exoplanets discovered up to October 2002. We are interested in clustering the exoplanets based on these features. Note that an exoplanet is a planet located outside the solar system. You may read about them at https://en.wikipedia.org/wiki/Exoplanet. The features recorded are - `Mass` (in Jupiter mass), `Period` (in Earth days), and `Eccentricity`."
      ],
      "metadata": {
        "id": "og4MNMW2fwpn"
      }
    },
    {
      "cell_type": "markdown",
      "source": [
        "a)  Perform an exploratory analysis of the data. Be sure to examine the univariate distributions of the variables and their bivariate relationships using appropriate plots and summary statistics."
      ],
      "metadata": {
        "id": "2cblyBGqoNNk"
      }
    },
    {
      "cell_type": "markdown",
      "source": [
        "b)  Do you think standardizing the variables before clustering would be a good idea? Justify your answer."
      ],
      "metadata": {
        "id": "VTs_7pFwLptS"
      }
    },
    {
      "cell_type": "markdown",
      "source": [
        "c)  Would you use metric-based or correlation-based distance to cluster the exoplanets? Justify your answer."
      ],
      "metadata": {
        "id": "a3T9rHAEx8Cb"
      }
    },
    {
      "cell_type": "markdown",
      "source": [
        "d)  Regardless of your answers in (b) and (c), standardize the variables and hierarchically cluster the exoplanets using complete linkage and Euclidean distance. Display the results using a dendogram. Cut the dendogram at a height that results in three distinct clusters. Summarize the cluster-specific means of the three variables (on the original scale) in a tabular form. Also, make pairwise scatterplots of the three variables (on the original scale) and show the three clusters in different colors."
      ],
      "metadata": {
        "id": "ODs97CkZx8Nd"
      }
    },
    {
      "cell_type": "markdown",
      "source": [
        "e)  Repeat (d) using $K$-means clustering with $K=3$. (Of course, you won't have a dendogram in this case.) Compare the conclusions with (d)."
      ],
      "metadata": {
        "id": "bAhRU9buHaAt"
      }
    }
  ]
}